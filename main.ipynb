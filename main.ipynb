{
 "cells": [
  {
   "cell_type": "markdown",
   "id": "35ccc26f",
   "metadata": {},
   "source": [
    "### Comensais do Restaurante Universitário da Universidade Federal do Ceará (RU-UFC)"
   ]
  },
  {
   "cell_type": "markdown",
   "id": "5c6deb52",
   "metadata": {},
   "source": [
    "#### Carregamento das Variáveis"
   ]
  },
  {
   "cell_type": "code",
   "execution_count": null,
   "id": "2b47eee4",
   "metadata": {},
   "outputs": [],
   "source": [
    "import pandas as pd\n",
    "import matplotlib.pyplot as plt\n",
    "\n",
    "restaurant_users = pd.DataFrame(pd.read_csv(\"comensais.csv\")) #comensais do RU\n",
    "students = pd.DataFrame(pd.read_csv(\"estudantes-matriculados-graduacao.csv\"))\n",
    "\n",
    "meals_counters = pd.DataFrame({\"amounts\": { #contagem das refeições\n",
    "    \"desjejum\": len(restaurant_users[restaurant_users[\"tipo_refeicao\"] == \"Café da Manhã\"]),\n",
    "    \"almoço\": len(restaurant_users[restaurant_users[\"tipo_refeicao\"] == \"Almoço\"]),\n",
    "    \"jantar\": len(restaurant_users[restaurant_users[\"tipo_refeicao\"] == \"Jantar\"]),\n",
    "}})\n",
    "\n",
    "users_grouped = restaurant_users[[\"vinculo_comensal\", \"quantidade_refeicao\"]].groupby(by=\"vinculo_comensal\").sum() #agrupador por vínculo\n",
    "users_type = users_grouped.rename(index={\"AUXILIO_CONCLUDENTE\": \"Auxílio Concludente\", \"AUXILIO_MORADIA\": \"Auxílio Moradia\", \"DISCENTE\": \"Discentes\", \"ISENCAO_INGRESSANTE\": \"Ingressantes Isentos\", \"ISENCAO_PARCIAL\": \"Isentos Parciais\", \"ISENCAO_TOTAL\": \"Isentos Totais\", \"RESIDENTE\": \"Residentes\"}) #renomeador de índices (rótulos)\n",
    "\n",
    "students_users = pd.merge(restaurant_users, students, how=\"inner\", on=\"cpf_cnpj\")\n",
    "students_users_origins = students_users[[\"uf_naturalidade\", \"quantidade_refeicao\"]].groupby(by=\"uf_naturalidade\").sum()\n",
    "display(students_users_origins)"
   ]
  },
  {
   "cell_type": "markdown",
   "id": "b6f9ab68",
   "metadata": {},
   "source": [
    "#### Plotagem de Gráficos"
   ]
  },
  {
   "cell_type": "markdown",
   "id": "02960e3b",
   "metadata": {},
   "source": [
    "##### Comensais do Restaurante Universitário por Vínculo"
   ]
  },
  {
   "cell_type": "code",
   "execution_count": null,
   "id": "37e2220a",
   "metadata": {},
   "outputs": [],
   "source": [
    "users_type.plot(kind=\"pie\", title=\"Segmentos Atendidos no Restaurante\", subplots=True, autopct=\"%.2f%%\")\n",
    "plt.legend(loc=\"lower left\", bbox_to_anchor=(1, 1))\n",
    "plt.show()"
   ]
  },
  {
   "cell_type": "markdown",
   "id": "c866df4a",
   "metadata": {},
   "source": [
    "#### Contagem das Refeições por Tipo"
   ]
  },
  {
   "cell_type": "code",
   "execution_count": null,
   "id": "028dffee",
   "metadata": {},
   "outputs": [],
   "source": [
    "meals_counters.plot(kind=\"pie\", title=\"Refeições no Restaurante Universitário (RU-UFC)\", subplots=True, ylabel=\"Proporções\", autopct=\"%.2f%%\")\n",
    "plt.show()"
   ]
  },
  {
   "cell_type": "markdown",
   "id": "4bb69422",
   "metadata": {},
   "source": [
    "### Proporção de Comensais por Unidade Federativa"
   ]
  },
  {
   "cell_type": "code",
   "execution_count": null,
   "id": "1f92e6e5",
   "metadata": {},
   "outputs": [],
   "source": [
    "students_users_origins.plot(kind=\"barh\",subplots=True, ylabel=\"Unidade Federativa\", xlabel=\"Refeições (escala logarítmica)\", logx=True)\n",
    "plt.show()"
   ]
  }
 ],
 "metadata": {
  "kernelspec": {
   "display_name": "Python 3",
   "language": "python",
   "name": "python3"
  },
  "language_info": {
   "codemirror_mode": {
    "name": "ipython",
    "version": 3
   },
   "file_extension": ".py",
   "mimetype": "text/x-python",
   "name": "python",
   "nbconvert_exporter": "python",
   "pygments_lexer": "ipython3",
   "version": "3.12.3"
  }
 },
 "nbformat": 4,
 "nbformat_minor": 5
}
